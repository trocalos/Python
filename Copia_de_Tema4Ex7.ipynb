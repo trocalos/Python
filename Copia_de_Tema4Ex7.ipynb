{
  "nbformat": 4,
  "nbformat_minor": 0,
  "metadata": {
    "colab": {
      "provenance": [],
      "authorship_tag": "ABX9TyMUQXYNOKOEnYr3yV3V/rBz",
      "include_colab_link": true
    },
    "kernelspec": {
      "name": "python3",
      "display_name": "Python 3"
    },
    "language_info": {
      "name": "python"
    }
  },
  "cells": [
    {
      "cell_type": "markdown",
      "metadata": {
        "id": "view-in-github",
        "colab_type": "text"
      },
      "source": [
        "<a href=\"https://colab.research.google.com/github/trocalos/Python/blob/trocalos-patch-1/Copia_de_Tema4Ex7.ipynb\" target=\"_parent\"><img src=\"https://colab.research.google.com/assets/colab-badge.svg\" alt=\"Open In Colab\"/></a>"
      ]
    },
    {
      "cell_type": "markdown",
      "source": [
        "Realizar un programa que solicite un número y muestre todos los divisores de ese número y además cuente el número de divisores de dicho número.\n",
        "\n",
        "Nota: Aplicar el concepto de contador, contador=contador+1 cada vez que se encuentre un divisor."
      ],
      "metadata": {
        "id": "aCGFUh8fkGmu"
      }
    },
    {
      "cell_type": "code",
      "source": [
        "#Programa que solicita un numero\n",
        "lista=[]\n",
        "contador=0\n",
        "suma=0\n"
      ],
      "metadata": {
        "id": "_Gs3VrD4kApY"
      },
      "execution_count": null,
      "outputs": []
    },
    {
      "cell_type": "code",
      "source": [
        "n=int(input(\"Introduce un numero: \"))"
      ],
      "metadata": {
        "colab": {
          "base_uri": "https://localhost:8080/"
        },
        "id": "CfUdCMViko1m",
        "outputId": "1402afb3-5ed1-47f2-92a0-c0fb400882b7"
      },
      "execution_count": null,
      "outputs": [
        {
          "name": "stdout",
          "output_type": "stream",
          "text": [
            "Introduce un numero: 15\n"
          ]
        }
      ]
    },
    {
      "cell_type": "markdown",
      "source": [],
      "metadata": {
        "id": "4woMttcRnhvx"
      }
    },
    {
      "cell_type": "code",
      "source": [
        "for m in range(1,n+1):\n",
        "  if n%m==0:\n",
        "    contador=contador+1\n",
        "    suma=suma+m\n",
        "    lista.append(m)\n",
        "\n",
        "print(\"Los divisores de\",n,\"son\",contador,\"y son estos:\",lista,\"y su suma vale\",suma)\n",
        "print(len(lista))\n",
        "print(lista.count(3))"
      ],
      "metadata": {
        "colab": {
          "base_uri": "https://localhost:8080/"
        },
        "id": "C4zaZeY5k2Bs",
        "outputId": "e46abf24-06fb-4fc4-cb81-9ad0af2d7cc6"
      },
      "execution_count": null,
      "outputs": [
        {
          "output_type": "stream",
          "name": "stdout",
          "text": [
            "Los divisores de 15 son 4 y son estos: [1, 3, 5, 15] y su suma vale 24\n",
            "4\n",
            "1\n"
          ]
        }
      ]
    }
  ]
}