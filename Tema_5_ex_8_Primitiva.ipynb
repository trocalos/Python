{
  "nbformat": 4,
  "nbformat_minor": 0,
  "metadata": {
    "colab": {
      "provenance": [],
      "authorship_tag": "ABX9TyPY8CLyv2EpObWH4kcCaa+g",
      "include_colab_link": true
    },
    "kernelspec": {
      "name": "python3",
      "display_name": "Python 3"
    },
    "language_info": {
      "name": "python"
    }
  },
  "cells": [
    {
      "cell_type": "markdown",
      "metadata": {
        "id": "view-in-github",
        "colab_type": "text"
      },
      "source": [
        "<a href=\"https://colab.research.google.com/github/trocalos/Python/blob/main/Tema_5_ex_8_Primitiva.ipynb\" target=\"_parent\"><img src=\"https://colab.research.google.com/assets/colab-badge.svg\" alt=\"Open In Colab\"/></a>"
      ]
    },
    {
      "cell_type": "code",
      "execution_count": 10,
      "metadata": {
        "colab": {
          "base_uri": "https://localhost:8080/"
        },
        "id": "FetuenC5zu3w",
        "outputId": "65165127-c5a9-43cf-d81f-183086423309"
      },
      "outputs": [
        {
          "output_type": "stream",
          "name": "stdout",
          "text": [
            "[29, 35, 43, 45, 47, 49]\n",
            "las veces que el número 5 aparece son 0\n",
            "las veces que el número 4 aparece son 0\n"
          ]
        }
      ],
      "source": [
        "lista=[]\n",
        "import random\n",
        "\n",
        "lanzo=True\n",
        "contador=0\n",
        "while lanzo:\n",
        "  contador=contador+1\n",
        "  primitiva=random.randint(1,49)\n",
        "  if primitiva in lista:\n",
        "    contador=contador-1\n",
        "  else:\n",
        "\n",
        "    lista.append(primitiva)\n",
        "\n",
        "  if contador==6:\n",
        "    lanzo=False\n",
        "\n",
        "lista_ordenada = sorted(lista)\n",
        "print(lista_ordenada)\n",
        "a=lista.count(3)\n",
        "print(\"las veces que el número 5 aparece son\",a)\n",
        "b=lista.count(7)\n",
        "print(\"las veces que el número 4 aparece son\",b)"
      ]
    }
  ]
}