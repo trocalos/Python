{
  "nbformat": 4,
  "nbformat_minor": 0,
  "metadata": {
    "colab": {
      "provenance": [],
      "authorship_tag": "ABX9TyPys3wJNDews44oC13ygQFH",
      "include_colab_link": true
    },
    "kernelspec": {
      "name": "python3",
      "display_name": "Python 3"
    },
    "language_info": {
      "name": "python"
    }
  },
  "cells": [
    {
      "cell_type": "markdown",
      "metadata": {
        "id": "view-in-github",
        "colab_type": "text"
      },
      "source": [
        "<a href=\"https://colab.research.google.com/github/trocalos/Python/blob/main/Tema4Ex4.ipynb\" target=\"_parent\"><img src=\"https://colab.research.google.com/assets/colab-badge.svg\" alt=\"Open In Colab\"/></a>"
      ]
    },
    {
      "cell_type": "markdown",
      "source": [
        "Realizar una programa que solicite una palabra y sólo muestre las vocales de dicha palabra."
      ],
      "metadata": {
        "id": "6e2ALDzKs9Zp"
      }
    },
    {
      "cell_type": "code",
      "source": [
        "m=input(\"Introduce una palabra \")\n",
        "\n",
        "for letra in m:\n",
        "  if letra in \"aeiouáéíóúàèò\":\n",
        "  #if n==\"a\":\n",
        "    print(letra)"
      ],
      "metadata": {
        "colab": {
          "base_uri": "https://localhost:8080/"
        },
        "id": "f959Ufu2t0DK",
        "outputId": "0780e7ba-535a-43a2-d0fb-2ef2b6b42d7f"
      },
      "execution_count": 23,
      "outputs": [
        {
          "output_type": "stream",
          "name": "stdout",
          "text": [
            "Introduce una palabra Aurora\n",
            "u\n",
            "o\n",
            "a\n"
          ]
        }
      ]
    }
  ]
}