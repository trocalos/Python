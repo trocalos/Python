{
  "nbformat": 4,
  "nbformat_minor": 0,
  "metadata": {
    "colab": {
      "provenance": [],
      "authorship_tag": "ABX9TyNls9iFOyXZE3UTgu/Y5GEP",
      "include_colab_link": true
    },
    "kernelspec": {
      "name": "python3",
      "display_name": "Python 3"
    },
    "language_info": {
      "name": "python"
    }
  },
  "cells": [
    {
      "cell_type": "markdown",
      "metadata": {
        "id": "view-in-github",
        "colab_type": "text"
      },
      "source": [
        "<a href=\"https://colab.research.google.com/github/trocalos/Python/blob/main/Tema_4_Ex_7.ipynb\" target=\"_parent\"><img src=\"https://colab.research.google.com/assets/colab-badge.svg\" alt=\"Open In Colab\"/></a>"
      ]
    },
    {
      "cell_type": "markdown",
      "source": [
        "Realizar un programa que solicite un número y muestre todos los divisores de ese número y además cuente el número de divisores de dicho número."
      ],
      "metadata": {
        "id": "u0DDOiem90FO"
      }
    },
    {
      "cell_type": "code",
      "execution_count": null,
      "metadata": {
        "colab": {
          "base_uri": "https://localhost:8080/"
        },
        "id": "Qyhd_N649Z7k",
        "outputId": "a142d333-a294-452d-f95e-f0f85e27cbb4"
      },
      "outputs": [
        {
          "output_type": "stream",
          "name": "stdout",
          "text": [
            "Este programa solicitará un número y mostrará todos sus divisores\n"
          ]
        }
      ],
      "source": [
        "\n",
        "print(\"Este programa solicitará un número y mostrará todos sus divisores\")"
      ]
    },
    {
      "cell_type": "code",
      "source": [
        "# @title Texto de título predeterminado\n",
        "n=int(input(\"Introduce un número: \"))\n",
        "lista=[]\n",
        "b=0\n",
        "for a in range(1,n+1):\n",
        "  if n%a==0:\n",
        "    lista.append(a)\n",
        "    b=b+1\n",
        "print(lista)\n",
        "c=len(lista)\n",
        "print(b,c)\n",
        "print(\"Los números divisores de\",n,\"son\",b,\"y son exactamente los números\",lista)"
      ],
      "metadata": {
        "colab": {
          "base_uri": "https://localhost:8080/"
        },
        "id": "MK8sZ6yc-HpN",
        "outputId": "e2dc381d-86e9-4222-a710-48f3fb240893"
      },
      "execution_count": null,
      "outputs": [
        {
          "output_type": "stream",
          "name": "stdout",
          "text": [
            "Introduce un número: 44\n",
            "[1, 2, 4, 11, 22, 44]\n",
            "6 6\n",
            "Los números divisores de 44 son 6 y son exactamente los números [1, 2, 4, 11, 22, 44]\n"
          ]
        }
      ]
    },
    {
      "cell_type": "markdown",
      "source": [
        "# Nueva sección"
      ],
      "metadata": {
        "id": "Y8vBsX4aEIGM"
      }
    }
  ]
}