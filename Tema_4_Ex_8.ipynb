{
  "nbformat": 4,
  "nbformat_minor": 0,
  "metadata": {
    "colab": {
      "provenance": [],
      "authorship_tag": "ABX9TyM62Kojmd/+/Rt3K5gGB24k",
      "include_colab_link": true
    },
    "kernelspec": {
      "name": "python3",
      "display_name": "Python 3"
    },
    "language_info": {
      "name": "python"
    }
  },
  "cells": [
    {
      "cell_type": "markdown",
      "metadata": {
        "id": "view-in-github",
        "colab_type": "text"
      },
      "source": [
        "<a href=\"https://colab.research.google.com/github/trocalos/Python/blob/main/Tema_4_Ex_8.ipynb\" target=\"_parent\"><img src=\"https://colab.research.google.com/assets/colab-badge.svg\" alt=\"Open In Colab\"/></a>"
      ]
    },
    {
      "cell_type": "markdown",
      "source": [
        "Realizar un programa que solicite una palabra, genere una lista a partir de dicha palabra y\n",
        "muestre la lista."
      ],
      "metadata": {
        "id": "TElzqGQLqegv"
      }
    },
    {
      "cell_type": "code",
      "source": [
        "n=input(\"escribe una palabra :\")\n",
        "lista=[]\n",
        "for s in n:\n",
        "\n",
        "\n",
        "  lista.append(s)\n",
        "print(lista)\n",
        "lista.reverse()\n",
        "print(lista)\n"
      ],
      "metadata": {
        "colab": {
          "base_uri": "https://localhost:8080/"
        },
        "id": "PRz6yUxSqrFu",
        "outputId": "e20552a6-227a-4049-da90-9b00d7cca629"
      },
      "execution_count": 7,
      "outputs": [
        {
          "output_type": "stream",
          "name": "stdout",
          "text": [
            "escribe una palabra :lista\n",
            "['l', 'i', 's', 't', 'a']\n",
            "['a', 't', 's', 'i', 'l']\n"
          ]
        }
      ]
    }
  ]
}